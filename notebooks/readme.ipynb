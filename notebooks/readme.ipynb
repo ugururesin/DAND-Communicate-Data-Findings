{
 "cells": [
  {
   "cell_type": "markdown",
   "metadata": {},
   "source": [
    "## A bike sharing system analysis on Ford GoBike dataset\n",
    "\n",
    "In this study, 20 different data frames that contain various information for the 'Ford GoBike' bike sharing system are gathered, assessed, cleaned and analyzed.<br>\n",
    "\n",
    "**The dataset information**\n",
    "We combined all data frames. It includes more than 3.8 million observations (rows) and 19 columns that hold various information for the bike sharing system users such as usage duration, user birth year etc.<br>\n",
    "\n",
    "**Why this dataset?**\n",
    "I am currently working for one of the joint ventures of Ford Motor Company as an engineer.\n",
    "Thus, I am really interested to study with 'Ford GoBike' data. In this study, one of the my goals is to understand the bike sharing system charactheristics for example which gender of users prefer this system or how old they're mostly.<br>\n",
    "\n",
    "### Research Questions\n",
    "\n",
    "**Univariate Exploration** (Only one variable is considered)<br>\n",
    "Mostly preferred bike sharing locations (Find top-10)<br>\n",
    "Mostly preferred trip routes (Also find the most preffered trip route)<br>\n",
    "The age distribution of Ford GoBike users<br>\n",
    "Bike usage according to daily hour, day and month<br>\n",
    "Trip durations over days<br>\n",
    "User types<br>\n",
    "\n",
    "**Bivariate Exploration** (Two variables are considered at the same time)<br>\n",
    "Hourly bike usage according to user type<br>\n",
    "Monthly bike usage according to user type<br>\n",
    "\n",
    "**Multivariate Exploration**<br>\n",
    "Hourly bike usage according to gender<br>\n",
    "Monthly bike usage according to gender<br>\n",
    "\n",
    "### Findings\n",
    "The people using the bicycle sharing system are mostly middle-aged people and men. Again, the majority of people who use this system use the system at 7 and 8 in the morning and at 5 and 7 in the evening, which indicates that the working people use it more. Again, people who use this system usually use this system for tours of less than 30 minutes. This shows that people use this system to get to work more than to visit. However, the reason people often use the system for less than 30 minutes is because they want to avoid extra fees because the system starts to charge extra fees after 30 minutes.<br>\n",
    "\n",
    "Speaking of ecomic use, about 89% of people who use the system prefer to become a member because membership provides cheaper usage.<br>\n",
    "\n",
    "When we look at the usage on day basis, it is seen that the system is used more during the week. Again, this shows that the system is used more by the working people.<br>\n",
    "\n",
    "In addition, if you take a look at the commonly used routes:<br>\n",
    "\n",
    "San Francisco Ferry Building - The Embarcadero at Sansome St<br>\n",
    "The Embarcadero at Sansome St in Steuart St at Market St<br>\n",
    "Berry St at 4th St - San Francisco Ferry Building (Harry Bridges Plaza)<br>\n",
    "Grand Ave at Perkins St. - 19th Street BART Station<br>\n",
    "19th Street BART Station - Grand Ave at Perkins St<br>\n",
    "San Francisco Ferry Building - Berry St at 4th St<br>\n",
    "The Embarcadero at Sansome St - San Francisco Ferry Building (Harry Bridges Plaza)<br>\n",
    "Steuart St at Market St - The Embarcadero at Sansome St<br>\n",
    "Townsend St at 7th St - San Francisco Caltrain Station 2<br>\n",
    "Market St at 10th St - San Francisco Caltrain Station 2 (Townsend St at 4th St)<br>\n",
    "\n",
    "We can see that the system is mostly used in areas where white collars work.<br>\n",
    "\n",
    "### Conclusion\n",
    "As a result, to deploy a similar system in another country, the stations need to be located close to the offices, especially those with white-collar workers. Advertisements should be channeled to middle-aged people as well as to men by weight.<br>\n",
    "\n",
    "Reported by Ugur URESIN, 2019."
   ]
  },
  {
   "cell_type": "code",
   "execution_count": null,
   "metadata": {},
   "outputs": [],
   "source": []
  }
 ],
 "metadata": {
  "kernelspec": {
   "display_name": "Python 3",
   "language": "python",
   "name": "python3"
  },
  "language_info": {
   "codemirror_mode": {
    "name": "ipython",
    "version": 3
   },
   "file_extension": ".py",
   "mimetype": "text/x-python",
   "name": "python",
   "nbconvert_exporter": "python",
   "pygments_lexer": "ipython3",
   "version": "3.7.3"
  }
 },
 "nbformat": 4,
 "nbformat_minor": 2
}
